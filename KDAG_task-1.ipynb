{
 "cells": [
  {
   "cell_type": "code",
   "execution_count": 163,
   "id": "fd1e344f",
   "metadata": {},
   "outputs": [],
   "source": [
    "import pandas as pd"
   ]
  },
  {
   "cell_type": "code",
   "execution_count": 164,
   "id": "c96b0ee1",
   "metadata": {},
   "outputs": [],
   "source": [
    "import numpy as np"
   ]
  },
  {
   "cell_type": "markdown",
   "id": "49057bf5",
   "metadata": {},
   "source": [
    "# CONVERTING GOOGLE SHEETS TO A CSV FILE  "
   ]
  },
  {
   "cell_type": "code",
   "execution_count": 165,
   "id": "879f3797",
   "metadata": {},
   "outputs": [],
   "source": [
    "sheet_id = \"1HbTO-7yTR-7BIUVv2BiiPcGwViPoxp4Y\""
   ]
  },
  {
   "cell_type": "code",
   "execution_count": 166,
   "id": "42d41f64",
   "metadata": {},
   "outputs": [],
   "source": [
    "sheet_name = \"Sheet1\""
   ]
  },
  {
   "cell_type": "code",
   "execution_count": 167,
   "id": "3f82d7c7",
   "metadata": {},
   "outputs": [],
   "source": [
    "xls_url =\"https://docs.google.com/spreadsheets/d/{}/gviz/tq?tqx=out:csv&sheet={}\".format(sheet_id , sheet_name)"
   ]
  },
  {
   "cell_type": "code",
   "execution_count": 168,
   "id": "987f6fd2",
   "metadata": {},
   "outputs": [
    {
     "data": {
      "text/plain": [
       "'https://docs.google.com/spreadsheets/d/1HbTO-7yTR-7BIUVv2BiiPcGwViPoxp4Y/gviz/tq?tqx=out:csv&sheet=Sheet1'"
      ]
     },
     "execution_count": 168,
     "metadata": {},
     "output_type": "execute_result"
    }
   ],
   "source": [
    "xls_url"
   ]
  },
  {
   "cell_type": "code",
   "execution_count": 169,
   "id": "e5963011",
   "metadata": {},
   "outputs": [],
   "source": [
    "df = pd.read_csv(xls_url , header=None , names =['careers'])"
   ]
  },
  {
   "cell_type": "code",
   "execution_count": 170,
   "id": "c4dbda64",
   "metadata": {},
   "outputs": [
    {
     "data": {
      "text/html": [
       "<div>\n",
       "<style scoped>\n",
       "    .dataframe tbody tr th:only-of-type {\n",
       "        vertical-align: middle;\n",
       "    }\n",
       "\n",
       "    .dataframe tbody tr th {\n",
       "        vertical-align: top;\n",
       "    }\n",
       "\n",
       "    .dataframe thead th {\n",
       "        text-align: right;\n",
       "    }\n",
       "</style>\n",
       "<table border=\"1\" class=\"dataframe\">\n",
       "  <thead>\n",
       "    <tr style=\"text-align: right;\">\n",
       "      <th></th>\n",
       "      <th>careers</th>\n",
       "    </tr>\n",
       "  </thead>\n",
       "  <tbody>\n",
       "    <tr>\n",
       "      <th>0</th>\n",
       "      <td>cokter</td>\n",
       "    </tr>\n",
       "    <tr>\n",
       "      <th>1</th>\n",
       "      <td>dentiists</td>\n",
       "    </tr>\n",
       "    <tr>\n",
       "      <th>2</th>\n",
       "      <td>Enginir</td>\n",
       "    </tr>\n",
       "    <tr>\n",
       "      <th>3</th>\n",
       "      <td>PoLICE</td>\n",
       "    </tr>\n",
       "    <tr>\n",
       "      <th>4</th>\n",
       "      <td>engneiear</td>\n",
       "    </tr>\n",
       "    <tr>\n",
       "      <th>5</th>\n",
       "      <td>DOcTRO</td>\n",
       "    </tr>\n",
       "    <tr>\n",
       "      <th>6</th>\n",
       "      <td>dentists</td>\n",
       "    </tr>\n",
       "    <tr>\n",
       "      <th>7</th>\n",
       "      <td>POLICE</td>\n",
       "    </tr>\n",
       "    <tr>\n",
       "      <th>8</th>\n",
       "      <td>enjeineaar</td>\n",
       "    </tr>\n",
       "    <tr>\n",
       "      <th>9</th>\n",
       "      <td>DENTISTT</td>\n",
       "    </tr>\n",
       "  </tbody>\n",
       "</table>\n",
       "</div>"
      ],
      "text/plain": [
       "      careers\n",
       "0      cokter\n",
       "1   dentiists\n",
       "2     Enginir\n",
       "3      PoLICE\n",
       "4   engneiear\n",
       "5      DOcTRO\n",
       "6    dentists\n",
       "7      POLICE\n",
       "8  enjeineaar\n",
       "9    DENTISTT"
      ]
     },
     "execution_count": 170,
     "metadata": {},
     "output_type": "execute_result"
    }
   ],
   "source": [
    "df.head(10)"
   ]
  },
  {
   "cell_type": "markdown",
   "id": "2d964b0a",
   "metadata": {},
   "source": [
    "# CREATING A LIST OF CORRECT WORDS"
   ]
  },
  {
   "cell_type": "code",
   "execution_count": 171,
   "id": "77d32b12",
   "metadata": {},
   "outputs": [],
   "source": [
    "correct_words = ['DOCTOR','TEACHER','LAYWER','ENGINEER','ACCOUNTANT','NURSE','POLICE','ARCHITECT','DENTIST','PHARMACIST']"
   ]
  },
  {
   "cell_type": "markdown",
   "id": "3e6b8a73",
   "metadata": {},
   "source": [
    "# HERE I AM USING LAVENSHTEIN DISTANCE METHOD TO SOLVE THE PROBLEM"
   ]
  },
  {
   "cell_type": "code",
   "execution_count": 172,
   "id": "f2306d30",
   "metadata": {},
   "outputs": [],
   "source": [
    "# Define a function to correct spelling mistakes using Levenshtein Distance algorithm\n",
    "\n",
    "def correct_spelling(word, dictionary):\n",
    "    min_distance = float('inf')\n",
    "    closest_word = word.lower() # Convert input word to lowercase\n",
    "    \n",
    "    # Iterate over each word in the dictionary\n",
    "    for correct_word in dictionary:\n",
    "        # Calculate Levenshtein Distance(ignoring case-sensitivity)\n",
    "        distance = levenshtein_distance(word.lower(), correct_word.lower()) \n",
    "        \n",
    "        # Update closest word if distance is smaller\n",
    "        if distance < min_distance:\n",
    "            min_distance = distance\n",
    "            closest_word = correct_word\n",
    "            \n",
    "    \n",
    "    return closest_word"
   ]
  },
  {
   "cell_type": "code",
   "execution_count": 173,
   "id": "abaea681",
   "metadata": {},
   "outputs": [],
   "source": [
    "# Define a function to calculate Levenshtein Distance between two words\n",
    "def levenshtein_distance(word1, word2):\n",
    "    \n",
    "    # Initialize matrix with zeros using NumPy\n",
    "    matrix = np.zeros((len(word1) + 1, len(word2) + 1), dtype=int)\n",
    "    \n",
    "    # Initialize first row and column\n",
    "    matrix[:, 0] = np.arange(len(word1) + 1)\n",
    "    matrix[0, :] = np.arange(len(word2) + 1)\n",
    "    \n",
    "    # Fill in the matrix\n",
    "    for i in range(1, len(word1) + 1):\n",
    "        for j in range(1, len(word2) + 1):\n",
    "            if word1[i - 1] == word2[j - 1]:\n",
    "                cost = 0\n",
    "            else:\n",
    "                cost = 1\n",
    "            matrix[i, j] = min(matrix[i - 1, j] + 1,  # Deletion\n",
    "                               matrix[i, j - 1] + 1,  # Insertion\n",
    "                               matrix[i - 1, j - 1] + cost)  # Substitution\n",
    "            \n",
    "    # Return the bottom-right element of the matrix\n",
    "    return matrix[len(word1), len(word2)]"
   ]
  },
  {
   "cell_type": "markdown",
   "id": "fb60748c",
   "metadata": {},
   "source": [
    "# CREATING CORRECTED RESPONSES LIST"
   ]
  },
  {
   "cell_type": "code",
   "execution_count": 174,
   "id": "dc7ddc46",
   "metadata": {},
   "outputs": [],
   "source": [
    "corrected_responses = []\n",
    "\n",
    "# Iterate over each response and correct the spelling\n",
    "# Clean up the data by applying the spelling correction function to each response\n",
    "\n",
    "for index in range(len(df)):\n",
    "    corrected_response = correct_spelling(df.loc[index , \"careers\"],correct_words)\n",
    "    corrected_responses.append(corrected_response)\n",
    "    "
   ]
  },
  {
   "cell_type": "markdown",
   "id": "7335ef4b",
   "metadata": {},
   "source": [
    "# ADDING THE CORRECTED RESPONSES LIST TO THE DATA FRAME"
   ]
  },
  {
   "cell_type": "code",
   "execution_count": 175,
   "id": "7a68c9cb",
   "metadata": {},
   "outputs": [],
   "source": [
    "df[\"corrected\"] = corrected_responses"
   ]
  },
  {
   "cell_type": "code",
   "execution_count": 176,
   "id": "8b26f87b",
   "metadata": {},
   "outputs": [
    {
     "data": {
      "text/html": [
       "<div>\n",
       "<style scoped>\n",
       "    .dataframe tbody tr th:only-of-type {\n",
       "        vertical-align: middle;\n",
       "    }\n",
       "\n",
       "    .dataframe tbody tr th {\n",
       "        vertical-align: top;\n",
       "    }\n",
       "\n",
       "    .dataframe thead th {\n",
       "        text-align: right;\n",
       "    }\n",
       "</style>\n",
       "<table border=\"1\" class=\"dataframe\">\n",
       "  <thead>\n",
       "    <tr style=\"text-align: right;\">\n",
       "      <th></th>\n",
       "      <th>careers</th>\n",
       "      <th>corrected</th>\n",
       "    </tr>\n",
       "  </thead>\n",
       "  <tbody>\n",
       "    <tr>\n",
       "      <th>0</th>\n",
       "      <td>cokter</td>\n",
       "      <td>DOCTOR</td>\n",
       "    </tr>\n",
       "    <tr>\n",
       "      <th>1</th>\n",
       "      <td>dentiists</td>\n",
       "      <td>DENTIST</td>\n",
       "    </tr>\n",
       "    <tr>\n",
       "      <th>2</th>\n",
       "      <td>Enginir</td>\n",
       "      <td>ENGINEER</td>\n",
       "    </tr>\n",
       "    <tr>\n",
       "      <th>3</th>\n",
       "      <td>PoLICE</td>\n",
       "      <td>POLICE</td>\n",
       "    </tr>\n",
       "    <tr>\n",
       "      <th>4</th>\n",
       "      <td>engneiear</td>\n",
       "      <td>ENGINEER</td>\n",
       "    </tr>\n",
       "    <tr>\n",
       "      <th>5</th>\n",
       "      <td>DOcTRO</td>\n",
       "      <td>DOCTOR</td>\n",
       "    </tr>\n",
       "    <tr>\n",
       "      <th>6</th>\n",
       "      <td>dentists</td>\n",
       "      <td>DENTIST</td>\n",
       "    </tr>\n",
       "    <tr>\n",
       "      <th>7</th>\n",
       "      <td>POLICE</td>\n",
       "      <td>POLICE</td>\n",
       "    </tr>\n",
       "    <tr>\n",
       "      <th>8</th>\n",
       "      <td>enjeineaar</td>\n",
       "      <td>ENGINEER</td>\n",
       "    </tr>\n",
       "    <tr>\n",
       "      <th>9</th>\n",
       "      <td>DENTISTT</td>\n",
       "      <td>DENTIST</td>\n",
       "    </tr>\n",
       "    <tr>\n",
       "      <th>10</th>\n",
       "      <td>nusye</td>\n",
       "      <td>NURSE</td>\n",
       "    </tr>\n",
       "    <tr>\n",
       "      <th>11</th>\n",
       "      <td>tEaCHEr</td>\n",
       "      <td>TEACHER</td>\n",
       "    </tr>\n",
       "    <tr>\n",
       "      <th>12</th>\n",
       "      <td>docktor</td>\n",
       "      <td>DOCTOR</td>\n",
       "    </tr>\n",
       "    <tr>\n",
       "      <th>13</th>\n",
       "      <td>nusre</td>\n",
       "      <td>NURSE</td>\n",
       "    </tr>\n",
       "    <tr>\n",
       "      <th>14</th>\n",
       "      <td>architeft</td>\n",
       "      <td>ARCHITECT</td>\n",
       "    </tr>\n",
       "    <tr>\n",
       "      <th>15</th>\n",
       "      <td>tEACHEr</td>\n",
       "      <td>TEACHER</td>\n",
       "    </tr>\n",
       "    <tr>\n",
       "      <th>16</th>\n",
       "      <td>engeineer</td>\n",
       "      <td>ENGINEER</td>\n",
       "    </tr>\n",
       "    <tr>\n",
       "      <th>17</th>\n",
       "      <td>dentists</td>\n",
       "      <td>DENTIST</td>\n",
       "    </tr>\n",
       "    <tr>\n",
       "      <th>18</th>\n",
       "      <td>POLicE</td>\n",
       "      <td>POLICE</td>\n",
       "    </tr>\n",
       "    <tr>\n",
       "      <th>19</th>\n",
       "      <td>ENJINEER</td>\n",
       "      <td>ENGINEER</td>\n",
       "    </tr>\n",
       "    <tr>\n",
       "      <th>20</th>\n",
       "      <td>engeniiar</td>\n",
       "      <td>ENGINEER</td>\n",
       "    </tr>\n",
       "    <tr>\n",
       "      <th>21</th>\n",
       "      <td>enginear</td>\n",
       "      <td>ENGINEER</td>\n",
       "    </tr>\n",
       "    <tr>\n",
       "      <th>22</th>\n",
       "      <td>accounTAnT</td>\n",
       "      <td>ACCOUNTANT</td>\n",
       "    </tr>\n",
       "    <tr>\n",
       "      <th>23</th>\n",
       "      <td>TEacher</td>\n",
       "      <td>TEACHER</td>\n",
       "    </tr>\n",
       "    <tr>\n",
       "      <th>24</th>\n",
       "      <td>POLIcE</td>\n",
       "      <td>POLICE</td>\n",
       "    </tr>\n",
       "    <tr>\n",
       "      <th>25</th>\n",
       "      <td>denstists</td>\n",
       "      <td>DENTIST</td>\n",
       "    </tr>\n",
       "    <tr>\n",
       "      <th>26</th>\n",
       "      <td>pharmaccist</td>\n",
       "      <td>PHARMACIST</td>\n",
       "    </tr>\n",
       "    <tr>\n",
       "      <th>27</th>\n",
       "      <td>doktur</td>\n",
       "      <td>DOCTOR</td>\n",
       "    </tr>\n",
       "    <tr>\n",
       "      <th>28</th>\n",
       "      <td>POlICE</td>\n",
       "      <td>POLICE</td>\n",
       "    </tr>\n",
       "    <tr>\n",
       "      <th>29</th>\n",
       "      <td>DEIST</td>\n",
       "      <td>DENTIST</td>\n",
       "    </tr>\n",
       "    <tr>\n",
       "      <th>30</th>\n",
       "      <td>doctuor</td>\n",
       "      <td>DOCTOR</td>\n",
       "    </tr>\n",
       "    <tr>\n",
       "      <th>31</th>\n",
       "      <td>dentists</td>\n",
       "      <td>DENTIST</td>\n",
       "    </tr>\n",
       "    <tr>\n",
       "      <th>32</th>\n",
       "      <td>doktoor</td>\n",
       "      <td>DOCTOR</td>\n",
       "    </tr>\n",
       "    <tr>\n",
       "      <th>33</th>\n",
       "      <td>DENISST</td>\n",
       "      <td>DENTIST</td>\n",
       "    </tr>\n",
       "    <tr>\n",
       "      <th>34</th>\n",
       "      <td>doctore</td>\n",
       "      <td>DOCTOR</td>\n",
       "    </tr>\n",
       "    <tr>\n",
       "      <th>35</th>\n",
       "      <td>lAWYREE</td>\n",
       "      <td>LAYWER</td>\n",
       "    </tr>\n",
       "    <tr>\n",
       "      <th>36</th>\n",
       "      <td>denttst</td>\n",
       "      <td>DENTIST</td>\n",
       "    </tr>\n",
       "    <tr>\n",
       "      <th>37</th>\n",
       "      <td>dactar</td>\n",
       "      <td>DOCTOR</td>\n",
       "    </tr>\n",
       "    <tr>\n",
       "      <th>38</th>\n",
       "      <td>DOCTUER</td>\n",
       "      <td>DOCTOR</td>\n",
       "    </tr>\n",
       "    <tr>\n",
       "      <th>39</th>\n",
       "      <td>tEacHER</td>\n",
       "      <td>TEACHER</td>\n",
       "    </tr>\n",
       "    <tr>\n",
       "      <th>40</th>\n",
       "      <td>TeaCHeR</td>\n",
       "      <td>TEACHER</td>\n",
       "    </tr>\n",
       "    <tr>\n",
       "      <th>41</th>\n",
       "      <td>doktr</td>\n",
       "      <td>DOCTOR</td>\n",
       "    </tr>\n",
       "    <tr>\n",
       "      <th>42</th>\n",
       "      <td>doctar</td>\n",
       "      <td>DOCTOR</td>\n",
       "    </tr>\n",
       "    <tr>\n",
       "      <th>43</th>\n",
       "      <td>poLIcE</td>\n",
       "      <td>POLICE</td>\n",
       "    </tr>\n",
       "    <tr>\n",
       "      <th>44</th>\n",
       "      <td>TEaCHer</td>\n",
       "      <td>TEACHER</td>\n",
       "    </tr>\n",
       "    <tr>\n",
       "      <th>45</th>\n",
       "      <td>enjinear</td>\n",
       "      <td>ENGINEER</td>\n",
       "    </tr>\n",
       "    <tr>\n",
       "      <th>46</th>\n",
       "      <td>TeaCHer</td>\n",
       "      <td>TEACHER</td>\n",
       "    </tr>\n",
       "    <tr>\n",
       "      <th>47</th>\n",
       "      <td>enjneear</td>\n",
       "      <td>ENGINEER</td>\n",
       "    </tr>\n",
       "    <tr>\n",
       "      <th>48</th>\n",
       "      <td>TEACher</td>\n",
       "      <td>TEACHER</td>\n",
       "    </tr>\n",
       "    <tr>\n",
       "      <th>49</th>\n",
       "      <td>ARCHITEKCT</td>\n",
       "      <td>ARCHITECT</td>\n",
       "    </tr>\n",
       "  </tbody>\n",
       "</table>\n",
       "</div>"
      ],
      "text/plain": [
       "        careers   corrected\n",
       "0        cokter      DOCTOR\n",
       "1     dentiists     DENTIST\n",
       "2       Enginir    ENGINEER\n",
       "3        PoLICE      POLICE\n",
       "4     engneiear    ENGINEER\n",
       "5        DOcTRO      DOCTOR\n",
       "6      dentists     DENTIST\n",
       "7        POLICE      POLICE\n",
       "8    enjeineaar    ENGINEER\n",
       "9      DENTISTT     DENTIST\n",
       "10        nusye       NURSE\n",
       "11      tEaCHEr     TEACHER\n",
       "12      docktor      DOCTOR\n",
       "13        nusre       NURSE\n",
       "14    architeft   ARCHITECT\n",
       "15      tEACHEr     TEACHER\n",
       "16    engeineer    ENGINEER\n",
       "17     dentists     DENTIST\n",
       "18       POLicE      POLICE\n",
       "19     ENJINEER    ENGINEER\n",
       "20    engeniiar    ENGINEER\n",
       "21     enginear    ENGINEER\n",
       "22   accounTAnT  ACCOUNTANT\n",
       "23      TEacher     TEACHER\n",
       "24       POLIcE      POLICE\n",
       "25    denstists     DENTIST\n",
       "26  pharmaccist  PHARMACIST\n",
       "27       doktur      DOCTOR\n",
       "28       POlICE      POLICE\n",
       "29        DEIST     DENTIST\n",
       "30      doctuor      DOCTOR\n",
       "31     dentists     DENTIST\n",
       "32      doktoor      DOCTOR\n",
       "33      DENISST     DENTIST\n",
       "34      doctore      DOCTOR\n",
       "35      lAWYREE      LAYWER\n",
       "36      denttst     DENTIST\n",
       "37       dactar      DOCTOR\n",
       "38      DOCTUER      DOCTOR\n",
       "39      tEacHER     TEACHER\n",
       "40      TeaCHeR     TEACHER\n",
       "41        doktr      DOCTOR\n",
       "42       doctar      DOCTOR\n",
       "43       poLIcE      POLICE\n",
       "44      TEaCHer     TEACHER\n",
       "45     enjinear    ENGINEER\n",
       "46      TeaCHer     TEACHER\n",
       "47     enjneear    ENGINEER\n",
       "48      TEACher     TEACHER\n",
       "49   ARCHITEKCT   ARCHITECT"
      ]
     },
     "execution_count": 176,
     "metadata": {},
     "output_type": "execute_result"
    }
   ],
   "source": [
    "df.head(50)"
   ]
  },
  {
   "cell_type": "markdown",
   "id": "a352fca8",
   "metadata": {},
   "source": [
    "# COUNTING THE FREQUENCY OF EACH CAREER CHOICE"
   ]
  },
  {
   "cell_type": "code",
   "execution_count": 177,
   "id": "d1aba912",
   "metadata": {},
   "outputs": [],
   "source": [
    "career_counts = {}\n",
    "for response in corrected_responses:\n",
    "    if response in career_counts:\n",
    "        career_counts[response] += 1\n",
    "    else:\n",
    "        career_counts[response] = 1"
   ]
  },
  {
   "cell_type": "code",
   "execution_count": 178,
   "id": "7de86ca1",
   "metadata": {},
   "outputs": [
    {
     "name": "stdout",
     "output_type": "stream",
     "text": [
      "{'DOCTOR': 225, 'DENTIST': 192, 'ENGINEER': 328, 'POLICE': 162, 'NURSE': 85, 'TEACHER': 195, 'ARCHITECT': 63, 'ACCOUNTANT': 32, 'PHARMACIST': 42, 'LAYWER': 82}\n"
     ]
    }
   ],
   "source": [
    "print(career_counts)"
   ]
  },
  {
   "cell_type": "markdown",
   "id": "19c84a7c",
   "metadata": {},
   "source": [
    "# PLOTTING THE GRAPH FOR  FREQUENCY V/S CAREER CHOICES"
   ]
  },
  {
   "cell_type": "code",
   "execution_count": 179,
   "id": "c7d2e4ee",
   "metadata": {},
   "outputs": [],
   "source": [
    "import matplotlib.pyplot as plt"
   ]
  },
  {
   "cell_type": "code",
   "execution_count": 180,
   "id": "9f78e684",
   "metadata": {},
   "outputs": [
    {
     "data": {
      "image/png": "[encoded data removed]",
      "text/plain": [
       "<Figure size 640x480 with 1 Axes>"
      ]
     },
     "metadata": {},
     "output_type": "display_data"
    }
   ],
   "source": [
    "# Define colors for each bar\n",
    "colors = ['blue', 'green', 'cyan', 'purple', 'orange' , 'red' , 'magenta' , 'yellow' , 'pink' , 'brown']\n",
    "\n",
    "# Plot the career aspirations of students using Matplotlib with colorful bars\n",
    "plt.bar(career_counts.keys(), career_counts.values(), color=colors)\n",
    "plt.xlabel('Career Aspirations')\n",
    "plt.ylabel('Frequency')\n",
    "plt.title('Career Aspirations of Students')\n",
    "plt.xticks(rotation=45) # Rotate x-axis labels for better readability\n",
    "plt.show()"
   ]
  }
 ],
 "metadata": {
  "kernelspec": {
   "display_name": "Python 3 (ipykernel)",
   "language": "python",
   "name": "python3"
  },
  "language_info": {
   "codemirror_mode": {
    "name": "ipython",
    "version": 3
   },
   "file_extension": ".py",
   "mimetype": "text/x-python",
   "name": "python",
   "nbconvert_exporter": "python",
   "pygments_lexer": "ipython3",
   "version": "3.11.7"
  }
 },
 "nbformat": 4,
 "nbformat_minor": 5
}
